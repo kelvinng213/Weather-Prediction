{
 "metadata": {
  "language_info": {
   "codemirror_mode": {
    "name": "ipython",
    "version": 3
   },
   "file_extension": ".py",
   "mimetype": "text/x-python",
   "name": "python",
   "nbconvert_exporter": "python",
   "pygments_lexer": "ipython3",
   "version": "3.8.5-final"
  },
  "orig_nbformat": 2,
  "kernelspec": {
   "name": "Python 3.8.5 64-bit ('FTDS': conda)",
   "display_name": "Python 3.8.5 64-bit ('FTDS': conda)",
   "metadata": {
    "interpreter": {
     "hash": "09c4b44010d50c2b668aad57d6f85da2c146486238eb9c9fd71647376db363b5"
    }
   }
  }
 },
 "nbformat": 4,
 "nbformat_minor": 2,
 "cells": [
  {
   "cell_type": "code",
   "execution_count": 13,
   "metadata": {},
   "outputs": [
    {
     "output_type": "error",
     "ename": "ModuleNotFoundError",
     "evalue": "No module named 'matplotlib'",
     "traceback": [
      "\u001b[0;31m---------------------------------------------------------------------------\u001b[0m",
      "\u001b[0;31mModuleNotFoundError\u001b[0m                       Traceback (most recent call last)",
      "\u001b[0;32m<ipython-input-13-6039673c1eba>\u001b[0m in \u001b[0;36m<module>\u001b[0;34m\u001b[0m\n\u001b[1;32m      3\u001b[0m \u001b[0;32mimport\u001b[0m \u001b[0mos\u001b[0m\u001b[0;34m\u001b[0m\u001b[0;34m\u001b[0m\u001b[0m\n\u001b[1;32m      4\u001b[0m \u001b[0;32mimport\u001b[0m \u001b[0mmath\u001b[0m\u001b[0;34m\u001b[0m\u001b[0;34m\u001b[0m\u001b[0m\n\u001b[0;32m----> 5\u001b[0;31m \u001b[0;32mimport\u001b[0m \u001b[0mmatplotlib\u001b[0m\u001b[0;34m.\u001b[0m\u001b[0mpyplot\u001b[0m \u001b[0;32mas\u001b[0m \u001b[0mplt\u001b[0m\u001b[0;34m\u001b[0m\u001b[0;34m\u001b[0m\u001b[0m\n\u001b[0m\u001b[1;32m      6\u001b[0m \u001b[0mget_ipython\u001b[0m\u001b[0;34m(\u001b[0m\u001b[0;34m)\u001b[0m\u001b[0;34m.\u001b[0m\u001b[0mrun_line_magic\u001b[0m\u001b[0;34m(\u001b[0m\u001b[0;34m'matplotlib'\u001b[0m\u001b[0;34m,\u001b[0m \u001b[0;34m'inline'\u001b[0m\u001b[0;34m)\u001b[0m\u001b[0;34m\u001b[0m\u001b[0;34m\u001b[0m\u001b[0m\n",
      "\u001b[0;31mModuleNotFoundError\u001b[0m: No module named 'matplotlib'"
     ]
    }
   ],
   "source": [
    "import pandas as pd\n",
    "import numpy as np\n",
    "import os\n",
    "import math\n"
   ]
  },
  {
   "cell_type": "code",
   "execution_count": 4,
   "metadata": {},
   "outputs": [],
   "source": [
    "df = pd.read_csv(\"weatherAUS.csv\")"
   ]
  },
  {
   "cell_type": "code",
   "execution_count": 5,
   "metadata": {},
   "outputs": [
    {
     "output_type": "execute_result",
     "data": {
      "text/plain": "         Date Location  MinTemp  MaxTemp  Rainfall  Evaporation  Sunshine  \\\n0  2008-12-01   Albury     13.4     22.9       0.6          NaN       NaN   \n1  2008-12-02   Albury      7.4     25.1       0.0          NaN       NaN   \n2  2008-12-03   Albury     12.9     25.7       0.0          NaN       NaN   \n3  2008-12-04   Albury      9.2     28.0       0.0          NaN       NaN   \n4  2008-12-05   Albury     17.5     32.3       1.0          NaN       NaN   \n\n  WindGustDir  WindGustSpeed WindDir9am  ... Humidity3pm  Pressure9am  \\\n0           W           44.0          W  ...        22.0       1007.7   \n1         WNW           44.0        NNW  ...        25.0       1010.6   \n2         WSW           46.0          W  ...        30.0       1007.6   \n3          NE           24.0         SE  ...        16.0       1017.6   \n4           W           41.0        ENE  ...        33.0       1010.8   \n\n   Pressure3pm  Cloud9am  Cloud3pm  Temp9am  Temp3pm  RainToday  RISK_MM  \\\n0       1007.1       8.0       NaN     16.9     21.8         No      0.0   \n1       1007.8       NaN       NaN     17.2     24.3         No      0.0   \n2       1008.7       NaN       2.0     21.0     23.2         No      0.0   \n3       1012.8       NaN       NaN     18.1     26.5         No      1.0   \n4       1006.0       7.0       8.0     17.8     29.7         No      0.2   \n\n   RainTomorrow  \n0            No  \n1            No  \n2            No  \n3            No  \n4            No  \n\n[5 rows x 24 columns]",
      "text/html": "<div>\n<style scoped>\n    .dataframe tbody tr th:only-of-type {\n        vertical-align: middle;\n    }\n\n    .dataframe tbody tr th {\n        vertical-align: top;\n    }\n\n    .dataframe thead th {\n        text-align: right;\n    }\n</style>\n<table border=\"1\" class=\"dataframe\">\n  <thead>\n    <tr style=\"text-align: right;\">\n      <th></th>\n      <th>Date</th>\n      <th>Location</th>\n      <th>MinTemp</th>\n      <th>MaxTemp</th>\n      <th>Rainfall</th>\n      <th>Evaporation</th>\n      <th>Sunshine</th>\n      <th>WindGustDir</th>\n      <th>WindGustSpeed</th>\n      <th>WindDir9am</th>\n      <th>...</th>\n      <th>Humidity3pm</th>\n      <th>Pressure9am</th>\n      <th>Pressure3pm</th>\n      <th>Cloud9am</th>\n      <th>Cloud3pm</th>\n      <th>Temp9am</th>\n      <th>Temp3pm</th>\n      <th>RainToday</th>\n      <th>RISK_MM</th>\n      <th>RainTomorrow</th>\n    </tr>\n  </thead>\n  <tbody>\n    <tr>\n      <th>0</th>\n      <td>2008-12-01</td>\n      <td>Albury</td>\n      <td>13.4</td>\n      <td>22.9</td>\n      <td>0.6</td>\n      <td>NaN</td>\n      <td>NaN</td>\n      <td>W</td>\n      <td>44.0</td>\n      <td>W</td>\n      <td>...</td>\n      <td>22.0</td>\n      <td>1007.7</td>\n      <td>1007.1</td>\n      <td>8.0</td>\n      <td>NaN</td>\n      <td>16.9</td>\n      <td>21.8</td>\n      <td>No</td>\n      <td>0.0</td>\n      <td>No</td>\n    </tr>\n    <tr>\n      <th>1</th>\n      <td>2008-12-02</td>\n      <td>Albury</td>\n      <td>7.4</td>\n      <td>25.1</td>\n      <td>0.0</td>\n      <td>NaN</td>\n      <td>NaN</td>\n      <td>WNW</td>\n      <td>44.0</td>\n      <td>NNW</td>\n      <td>...</td>\n      <td>25.0</td>\n      <td>1010.6</td>\n      <td>1007.8</td>\n      <td>NaN</td>\n      <td>NaN</td>\n      <td>17.2</td>\n      <td>24.3</td>\n      <td>No</td>\n      <td>0.0</td>\n      <td>No</td>\n    </tr>\n    <tr>\n      <th>2</th>\n      <td>2008-12-03</td>\n      <td>Albury</td>\n      <td>12.9</td>\n      <td>25.7</td>\n      <td>0.0</td>\n      <td>NaN</td>\n      <td>NaN</td>\n      <td>WSW</td>\n      <td>46.0</td>\n      <td>W</td>\n      <td>...</td>\n      <td>30.0</td>\n      <td>1007.6</td>\n      <td>1008.7</td>\n      <td>NaN</td>\n      <td>2.0</td>\n      <td>21.0</td>\n      <td>23.2</td>\n      <td>No</td>\n      <td>0.0</td>\n      <td>No</td>\n    </tr>\n    <tr>\n      <th>3</th>\n      <td>2008-12-04</td>\n      <td>Albury</td>\n      <td>9.2</td>\n      <td>28.0</td>\n      <td>0.0</td>\n      <td>NaN</td>\n      <td>NaN</td>\n      <td>NE</td>\n      <td>24.0</td>\n      <td>SE</td>\n      <td>...</td>\n      <td>16.0</td>\n      <td>1017.6</td>\n      <td>1012.8</td>\n      <td>NaN</td>\n      <td>NaN</td>\n      <td>18.1</td>\n      <td>26.5</td>\n      <td>No</td>\n      <td>1.0</td>\n      <td>No</td>\n    </tr>\n    <tr>\n      <th>4</th>\n      <td>2008-12-05</td>\n      <td>Albury</td>\n      <td>17.5</td>\n      <td>32.3</td>\n      <td>1.0</td>\n      <td>NaN</td>\n      <td>NaN</td>\n      <td>W</td>\n      <td>41.0</td>\n      <td>ENE</td>\n      <td>...</td>\n      <td>33.0</td>\n      <td>1010.8</td>\n      <td>1006.0</td>\n      <td>7.0</td>\n      <td>8.0</td>\n      <td>17.8</td>\n      <td>29.7</td>\n      <td>No</td>\n      <td>0.2</td>\n      <td>No</td>\n    </tr>\n  </tbody>\n</table>\n<p>5 rows × 24 columns</p>\n</div>"
     },
     "metadata": {},
     "execution_count": 5
    }
   ],
   "source": [
    "df.head()"
   ]
  },
  {
   "cell_type": "code",
   "execution_count": 6,
   "metadata": {},
   "outputs": [
    {
     "output_type": "execute_result",
     "data": {
      "text/plain": "             MinTemp        MaxTemp       Rainfall   Evaporation  \\\ncount  141556.000000  141871.000000  140787.000000  81350.000000   \nmean       12.186400      23.226784       2.349974      5.469824   \nstd         6.403283       7.117618       8.465173      4.188537   \nmin        -8.500000      -4.800000       0.000000      0.000000   \n25%         7.600000      17.900000       0.000000      2.600000   \n50%        12.000000      22.600000       0.000000      4.800000   \n75%        16.800000      28.200000       0.800000      7.400000   \nmax        33.900000      48.100000     371.000000    145.000000   \n\n           Sunshine  WindGustSpeed   WindSpeed9am   WindSpeed3pm  \\\ncount  74377.000000  132923.000000  140845.000000  139563.000000   \nmean       7.624853      39.984292      14.001988      18.637576   \nstd        3.781525      13.588801       8.893337       8.803345   \nmin        0.000000       6.000000       0.000000       0.000000   \n25%        4.900000      31.000000       7.000000      13.000000   \n50%        8.500000      39.000000      13.000000      19.000000   \n75%       10.600000      48.000000      19.000000      24.000000   \nmax       14.500000     135.000000     130.000000      87.000000   \n\n         Humidity9am    Humidity3pm    Pressure9am    Pressure3pm  \\\ncount  140419.000000  138583.000000  128179.000000  128212.000000   \nmean       68.843810      51.482606    1017.653758    1015.258204   \nstd        19.051293      20.797772       7.105476       7.036677   \nmin         0.000000       0.000000     980.500000     977.100000   \n25%        57.000000      37.000000    1012.900000    1010.400000   \n50%        70.000000      52.000000    1017.600000    1015.200000   \n75%        83.000000      66.000000    1022.400000    1020.000000   \nmax       100.000000     100.000000    1041.000000    1039.600000   \n\n           Cloud9am      Cloud3pm        Temp9am        Temp3pm        RISK_MM  \ncount  88536.000000  85099.000000  141289.000000  139467.000000  142193.000000  \nmean       4.437189      4.503167      16.987509      21.687235       2.360682  \nstd        2.887016      2.720633       6.492838       6.937594       8.477969  \nmin        0.000000      0.000000      -7.200000      -5.400000       0.000000  \n25%        1.000000      2.000000      12.300000      16.600000       0.000000  \n50%        5.000000      5.000000      16.700000      21.100000       0.000000  \n75%        7.000000      7.000000      21.600000      26.400000       0.800000  \nmax        9.000000      9.000000      40.200000      46.700000     371.000000  ",
      "text/html": "<div>\n<style scoped>\n    .dataframe tbody tr th:only-of-type {\n        vertical-align: middle;\n    }\n\n    .dataframe tbody tr th {\n        vertical-align: top;\n    }\n\n    .dataframe thead th {\n        text-align: right;\n    }\n</style>\n<table border=\"1\" class=\"dataframe\">\n  <thead>\n    <tr style=\"text-align: right;\">\n      <th></th>\n      <th>MinTemp</th>\n      <th>MaxTemp</th>\n      <th>Rainfall</th>\n      <th>Evaporation</th>\n      <th>Sunshine</th>\n      <th>WindGustSpeed</th>\n      <th>WindSpeed9am</th>\n      <th>WindSpeed3pm</th>\n      <th>Humidity9am</th>\n      <th>Humidity3pm</th>\n      <th>Pressure9am</th>\n      <th>Pressure3pm</th>\n      <th>Cloud9am</th>\n      <th>Cloud3pm</th>\n      <th>Temp9am</th>\n      <th>Temp3pm</th>\n      <th>RISK_MM</th>\n    </tr>\n  </thead>\n  <tbody>\n    <tr>\n      <th>count</th>\n      <td>141556.000000</td>\n      <td>141871.000000</td>\n      <td>140787.000000</td>\n      <td>81350.000000</td>\n      <td>74377.000000</td>\n      <td>132923.000000</td>\n      <td>140845.000000</td>\n      <td>139563.000000</td>\n      <td>140419.000000</td>\n      <td>138583.000000</td>\n      <td>128179.000000</td>\n      <td>128212.000000</td>\n      <td>88536.000000</td>\n      <td>85099.000000</td>\n      <td>141289.000000</td>\n      <td>139467.000000</td>\n      <td>142193.000000</td>\n    </tr>\n    <tr>\n      <th>mean</th>\n      <td>12.186400</td>\n      <td>23.226784</td>\n      <td>2.349974</td>\n      <td>5.469824</td>\n      <td>7.624853</td>\n      <td>39.984292</td>\n      <td>14.001988</td>\n      <td>18.637576</td>\n      <td>68.843810</td>\n      <td>51.482606</td>\n      <td>1017.653758</td>\n      <td>1015.258204</td>\n      <td>4.437189</td>\n      <td>4.503167</td>\n      <td>16.987509</td>\n      <td>21.687235</td>\n      <td>2.360682</td>\n    </tr>\n    <tr>\n      <th>std</th>\n      <td>6.403283</td>\n      <td>7.117618</td>\n      <td>8.465173</td>\n      <td>4.188537</td>\n      <td>3.781525</td>\n      <td>13.588801</td>\n      <td>8.893337</td>\n      <td>8.803345</td>\n      <td>19.051293</td>\n      <td>20.797772</td>\n      <td>7.105476</td>\n      <td>7.036677</td>\n      <td>2.887016</td>\n      <td>2.720633</td>\n      <td>6.492838</td>\n      <td>6.937594</td>\n      <td>8.477969</td>\n    </tr>\n    <tr>\n      <th>min</th>\n      <td>-8.500000</td>\n      <td>-4.800000</td>\n      <td>0.000000</td>\n      <td>0.000000</td>\n      <td>0.000000</td>\n      <td>6.000000</td>\n      <td>0.000000</td>\n      <td>0.000000</td>\n      <td>0.000000</td>\n      <td>0.000000</td>\n      <td>980.500000</td>\n      <td>977.100000</td>\n      <td>0.000000</td>\n      <td>0.000000</td>\n      <td>-7.200000</td>\n      <td>-5.400000</td>\n      <td>0.000000</td>\n    </tr>\n    <tr>\n      <th>25%</th>\n      <td>7.600000</td>\n      <td>17.900000</td>\n      <td>0.000000</td>\n      <td>2.600000</td>\n      <td>4.900000</td>\n      <td>31.000000</td>\n      <td>7.000000</td>\n      <td>13.000000</td>\n      <td>57.000000</td>\n      <td>37.000000</td>\n      <td>1012.900000</td>\n      <td>1010.400000</td>\n      <td>1.000000</td>\n      <td>2.000000</td>\n      <td>12.300000</td>\n      <td>16.600000</td>\n      <td>0.000000</td>\n    </tr>\n    <tr>\n      <th>50%</th>\n      <td>12.000000</td>\n      <td>22.600000</td>\n      <td>0.000000</td>\n      <td>4.800000</td>\n      <td>8.500000</td>\n      <td>39.000000</td>\n      <td>13.000000</td>\n      <td>19.000000</td>\n      <td>70.000000</td>\n      <td>52.000000</td>\n      <td>1017.600000</td>\n      <td>1015.200000</td>\n      <td>5.000000</td>\n      <td>5.000000</td>\n      <td>16.700000</td>\n      <td>21.100000</td>\n      <td>0.000000</td>\n    </tr>\n    <tr>\n      <th>75%</th>\n      <td>16.800000</td>\n      <td>28.200000</td>\n      <td>0.800000</td>\n      <td>7.400000</td>\n      <td>10.600000</td>\n      <td>48.000000</td>\n      <td>19.000000</td>\n      <td>24.000000</td>\n      <td>83.000000</td>\n      <td>66.000000</td>\n      <td>1022.400000</td>\n      <td>1020.000000</td>\n      <td>7.000000</td>\n      <td>7.000000</td>\n      <td>21.600000</td>\n      <td>26.400000</td>\n      <td>0.800000</td>\n    </tr>\n    <tr>\n      <th>max</th>\n      <td>33.900000</td>\n      <td>48.100000</td>\n      <td>371.000000</td>\n      <td>145.000000</td>\n      <td>14.500000</td>\n      <td>135.000000</td>\n      <td>130.000000</td>\n      <td>87.000000</td>\n      <td>100.000000</td>\n      <td>100.000000</td>\n      <td>1041.000000</td>\n      <td>1039.600000</td>\n      <td>9.000000</td>\n      <td>9.000000</td>\n      <td>40.200000</td>\n      <td>46.700000</td>\n      <td>371.000000</td>\n    </tr>\n  </tbody>\n</table>\n</div>"
     },
     "metadata": {},
     "execution_count": 6
    }
   ],
   "source": [
    "df.describe()"
   ]
  },
  {
   "cell_type": "code",
   "execution_count": 9,
   "metadata": {
    "tags": []
   },
   "outputs": [
    {
     "output_type": "stream",
     "name": "stdout",
     "text": "<class 'pandas.core.frame.DataFrame'>\nRangeIndex: 142193 entries, 0 to 142192\nData columns (total 24 columns):\n #   Column         Non-Null Count   Dtype  \n---  ------         --------------   -----  \n 0   Date           142193 non-null  object \n 1   Location       142193 non-null  object \n 2   MinTemp        141556 non-null  float64\n 3   MaxTemp        141871 non-null  float64\n 4   Rainfall       140787 non-null  float64\n 5   Evaporation    81350 non-null   float64\n 6   Sunshine       74377 non-null   float64\n 7   WindGustDir    132863 non-null  object \n 8   WindGustSpeed  132923 non-null  float64\n 9   WindDir9am     132180 non-null  object \n 10  WindDir3pm     138415 non-null  object \n 11  WindSpeed9am   140845 non-null  float64\n 12  WindSpeed3pm   139563 non-null  float64\n 13  Humidity9am    140419 non-null  float64\n 14  Humidity3pm    138583 non-null  float64\n 15  Pressure9am    128179 non-null  float64\n 16  Pressure3pm    128212 non-null  float64\n 17  Cloud9am       88536 non-null   float64\n 18  Cloud3pm       85099 non-null   float64\n 19  Temp9am        141289 non-null  float64\n 20  Temp3pm        139467 non-null  float64\n 21  RainToday      140787 non-null  object \n 22  RISK_MM        142193 non-null  float64\n 23  RainTomorrow   142193 non-null  object \ndtypes: float64(17), object(7)\nmemory usage: 26.0+ MB\n"
    }
   ],
   "source": [
    "df.info()"
   ]
  },
  {
   "cell_type": "code",
   "execution_count": 11,
   "metadata": {},
   "outputs": [
    {
     "output_type": "execute_result",
     "data": {
      "text/plain": "(142193, 24)"
     },
     "metadata": {},
     "execution_count": 11
    }
   ],
   "source": [
    "df.shape"
   ]
  },
  {
   "cell_type": "code",
   "execution_count": null,
   "metadata": {},
   "outputs": [],
   "source": []
  }
 ]
}